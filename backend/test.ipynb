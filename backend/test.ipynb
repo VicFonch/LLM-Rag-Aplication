{
 "cells": [
  {
   "cell_type": "code",
   "execution_count": 1,
   "metadata": {},
   "outputs": [],
   "source": [
    "import json\n",
    "\n",
    "import requests\n",
    "\n",
    "url = \"http://127.0.0.1:8000/api/similarity-search\"\n",
    "query = \"Hello, how are you?\"\n",
    "data = {\n",
    "    \"query\": query,\n",
    "    \"chat_history_json_path\": \"hist_chat.json\",\n",
    "}\n",
    "\n",
    "headers = {\"Content-type\": \"application/json\"}\n",
    "\n",
    "with requests.post(url, data=json.dumps(data), headers=headers, stream=True) as r:\n",
    "    for chunk in r.iter_content(1024):\n",
    "        print(chunk)"
   ]
  }
 ],
 "metadata": {
  "kernelspec": {
   "display_name": "venv",
   "language": "python",
   "name": "python3"
  },
  "language_info": {
   "codemirror_mode": {
    "name": "ipython",
    "version": 3
   },
   "file_extension": ".py",
   "mimetype": "text/x-python",
   "name": "python",
   "nbconvert_exporter": "python",
   "pygments_lexer": "ipython3",
   "version": "3.12.3"
  }
 },
 "nbformat": 4,
 "nbformat_minor": 2
}
